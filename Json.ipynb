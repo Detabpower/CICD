{
 "cells": [
  {
   "cell_type": "code",
   "execution_count": 0,
   "metadata": {
    "application/vnd.databricks.v1+cell": {
     "cellMetadata": {
      "byteLimit": 2048000,
      "rowLimit": 10000
     },
     "inputWidgets": {},
     "nuid": "60441534-9246-4286-9c14-86d8f43b245e",
     "showTitle": false,
     "tableResultSettingsMap": {},
     "title": ""
    }
   },
   "outputs": [],
   "source": [
    "%run \"/Databricks_MasterClass/Tutorial\""
   ]
  },
  {
   "cell_type": "code",
   "execution_count": 0,
   "metadata": {
    "application/vnd.databricks.v1+cell": {
     "cellMetadata": {
      "byteLimit": 2048000,
      "rowLimit": 10000
     },
     "inputWidgets": {},
     "nuid": "19c6bb5c-6e79-4ede-b6ac-68a6c82e0f71",
     "showTitle": false,
     "tableResultSettingsMap": {},
     "title": ""
    }
   },
   "outputs": [],
   "source": [
    "from pyspark.sql.functions import *"
   ]
  },
  {
   "cell_type": "markdown",
   "metadata": {
    "application/vnd.databricks.v1+cell": {
     "cellMetadata": {},
     "inputWidgets": {},
     "nuid": "266bca98-f10c-4a1a-ba60-112e0ac6ea7c",
     "showTitle": false,
     "tableResultSettingsMap": {},
     "title": ""
    }
   },
   "source": [
    "# Loading Json"
   ]
  },
  {
   "cell_type": "code",
   "execution_count": 0,
   "metadata": {
    "application/vnd.databricks.v1+cell": {
     "cellMetadata": {
      "byteLimit": 2048000,
      "rowLimit": 10000
     },
     "inputWidgets": {},
     "nuid": "52df8a1f-3a5a-4e0e-9b09-b883fa82cd7d",
     "showTitle": false,
     "tableResultSettingsMap": {},
     "title": ""
    }
   },
   "outputs": [],
   "source": [
    "dfjson = spark.read.format('json') \\\n",
    "            .option('inferSchema', 'true') \\\n",
    "                .option('header', 'true') \\\n",
    "                    .option('multiLine', 'true') \\\n",
    "                        .load('abfss://source@datalakemclassstorage.dfs.core.windows.net/Item.json')\n",
    "display(dfjson)"
   ]
  },
  {
   "cell_type": "code",
   "execution_count": 0,
   "metadata": {
    "application/vnd.databricks.v1+cell": {
     "cellMetadata": {
      "byteLimit": 2048000,
      "rowLimit": 10000
     },
     "inputWidgets": {},
     "nuid": "e738a61d-d82b-4ecd-8abf-649e3f02d014",
     "showTitle": false,
     "tableResultSettingsMap": {},
     "title": ""
    }
   },
   "outputs": [],
   "source": [
    "dfjson.printSchema()"
   ]
  },
  {
   "cell_type": "code",
   "execution_count": 0,
   "metadata": {
    "application/vnd.databricks.v1+cell": {
     "cellMetadata": {
      "byteLimit": 2048000,
      "rowLimit": 10000
     },
     "inputWidgets": {},
     "nuid": "13563dfa-a8ac-4f48-8401-fd5ec4ab2113",
     "showTitle": false,
     "tableResultSettingsMap": {},
     "title": ""
    }
   },
   "outputs": [],
   "source": [
    "dffinal = dfjson.withColumn('New Batters', explode('batters.batter')) \\\n",
    "                .withColumn('New Topping', explode('topping')) \\\n",
    "                    .drop('batters', 'topping')\n",
    "\n",
    "dffinal = dffinal.select('id', 'name', 'ppu', 'type', col('New Batters.id').alias('New Batters ID'), \\\n",
    "                                            col('New Batters.type').alias('New Batters Type'), \\\n",
    "                                            col('New Topping.id').alias('New Topping ID'), \\\n",
    "                                            col('New Topping.type').alias('New Topping Type')\n",
    "                                            )\n",
    "dffinal.display()"
   ]
  },
  {
   "cell_type": "code",
   "execution_count": 0,
   "metadata": {
    "application/vnd.databricks.v1+cell": {
     "cellMetadata": {
      "byteLimit": 2048000,
      "rowLimit": 10000
     },
     "inputWidgets": {},
     "nuid": "30e1aa90-c071-43f7-b998-d97188468944",
     "showTitle": false,
     "tableResultSettingsMap": {},
     "title": ""
    }
   },
   "outputs": [],
   "source": [
    "dfpay = spark.read.format('json') \\\n",
    "                .option('multiLine', True) \\\n",
    "                    .load('abfss://source@datalakemclassstorage.dfs.core.windows.net/Payload.json')"
   ]
  },
  {
   "cell_type": "code",
   "execution_count": 0,
   "metadata": {
    "application/vnd.databricks.v1+cell": {
     "cellMetadata": {
      "byteLimit": 2048000,
      "rowLimit": 10000
     },
     "inputWidgets": {},
     "nuid": "b2cb111e-0f33-4eaa-a2ea-2d8694437e59",
     "showTitle": false,
     "tableResultSettingsMap": {},
     "title": ""
    }
   },
   "outputs": [],
   "source": [
    "display(dfpay)"
   ]
  },
  {
   "cell_type": "code",
   "execution_count": 0,
   "metadata": {
    "application/vnd.databricks.v1+cell": {
     "cellMetadata": {
      "byteLimit": 2048000,
      "rowLimit": 10000
     },
     "inputWidgets": {},
     "nuid": "58e15adb-0606-4917-88b8-1c8f9153c403",
     "showTitle": false,
     "tableResultSettingsMap": {},
     "title": ""
    }
   },
   "outputs": [],
   "source": [
    "dfpay.withColumn('new geo', explode('geo.location')) \\\n",
    "    .withColumn('new items', explode('items')) \\\n",
    "        .withColumn('new geo city', col('new geo.city')) \\\n",
    "    .display()"
   ]
  },
  {
   "cell_type": "code",
   "execution_count": 0,
   "metadata": {
    "application/vnd.databricks.v1+cell": {
     "cellMetadata": {
      "byteLimit": 2048000,
      "rowLimit": 10000
     },
     "inputWidgets": {},
     "nuid": "d14cb44a-4cbb-4532-80bc-a1ed1223379d",
     "showTitle": false,
     "tableResultSettingsMap": {},
     "title": ""
    }
   },
   "outputs": [],
   "source": [
    "dfpayfinal =dfpay.withColumn('new geo', explode('geo.location')) \\\n",
    "    .withColumn('new items', explode('items'))\n",
    "    \n",
    "dfpayfinal = dfpayfinal.select('User', 'device', col('new geo.city').alias('new geo city'), \\\n",
    "     col('new geo.state').alias('new geo state'), col('new geo.country').alias('new geo country'), \\\n",
    "         col('new items.description').alias('new items description'), col('new items.id').alias('new items id'), \\\n",
    "             col('new items.name').alias('new items name'))\n",
    "dfpayfinal.display()\n",
    "                 "
   ]
  },
  {
   "cell_type": "markdown",
   "metadata": {
    "application/vnd.databricks.v1+cell": {
     "cellMetadata": {},
     "inputWidgets": {},
     "nuid": "ef949a22-dd23-4f7e-a607-e5850ef5b2fa",
     "showTitle": false,
     "tableResultSettingsMap": {},
     "title": ""
    }
   },
   "source": [
    "# GIT HUB CI/CD Pipeline"
   ]
  },
  {
   "cell_type": "code",
   "execution_count": 0,
   "metadata": {
    "application/vnd.databricks.v1+cell": {
     "cellMetadata": {},
     "inputWidgets": {},
     "nuid": "6fac9379-4a75-4f06-9586-67783995de0a",
     "showTitle": false,
     "tableResultSettingsMap": {},
     "title": ""
    }
   },
   "outputs": [],
   "source": []
  }
 ],
 "metadata": {
  "application/vnd.databricks.v1+notebook": {
   "computePreferences": null,
   "dashboards": [],
   "environmentMetadata": {
    "base_environment": "",
    "environment_version": "2"
   },
   "inputWidgetPreferences": null,
   "language": "python",
   "notebookMetadata": {
    "pythonIndentUnit": 4
   },
   "notebookName": "Json",
   "widgets": {}
  },
  "language_info": {
   "name": "python"
  }
 },
 "nbformat": 4,
 "nbformat_minor": 0
}
